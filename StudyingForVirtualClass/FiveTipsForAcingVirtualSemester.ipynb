{
 "cells": [
  {
   "cell_type": "markdown",
   "metadata": {},
   "source": [
    "# 5 Studying Tips for a Virtual Semester\n",
    "\n",
    "**Intro/Justification**\n",
    "If your university hasn't already, it's becoming more and more obvious that online, virtual learning is where we are all heading for the foreseeable future.\n",
    "Virtual learning is different than in-person learning and to be successful will require new learning strategies than those that you may have previously relied on.\n",
    "\n",
    "In my post-grad life, I have had to teach myself many subjects without the benefit of a structured syllabus.\n",
    "Though you're not in that position, these tips will help you ace your courses now and give you more tools for when you need to learn something in the future.\n",
    "\n",
    "Here are five tips to ace your next -- and maybe the next next -- semester:"
   ]
  },
  {
   "cell_type": "markdown",
   "metadata": {},
   "source": [
    "## 1. Look for outside materials\n",
    "No one explains a concept or solution exactly the same way.\n",
    "If you are struggling with your course's text book, or your professor's slides aren't doing it for you, it's to your benefit to look for different materials.\n",
    "Ask your professor for recommendations about other texts that cover the same material.\n",
    "Chances are they can name a few really good resources that they also like on the subject.\n",
    "(I have found this to be extremely helpful in more than one course, especially when they are the author of the courses text book.)\n",
    "\n",
    "Once you have the name of the text book, reach out to your university's librarians.\n",
    "They may be able to connect you to the online version or send a copy of the text."
   ]
  },
  {
   "cell_type": "markdown",
   "metadata": {},
   "source": [
    "## 2. Make a Schedule and Keep It\n",
    "Without the familiar in-person meetings of the clubs and rec sports teams that university offers, many will be without the landmarks that help structure their day.\n",
    "Find a routine "
   ]
  },
  {
   "cell_type": "markdown",
   "metadata": {},
   "source": [
    "## 2. Repetition, repetition, repetition\n",
    "Real mastery of a subject comes when you can recognize patterns from old problems and apply them to new ones.\n",
    "Do as many problems you can get your hands on (the extra texts you now have after following Tip 1 will come in handy."
   ]
  },
  {
   "cell_type": "markdown",
   "metadata": {},
   "source": [
    "## 3. Find Someone and Convince Them of Your Answer"
   ]
  },
  {
   "cell_type": "markdown",
   "metadata": {},
   "source": [
    "## 5. Consider a Tutor"
   ]
  },
  {
   "cell_type": "code",
   "execution_count": null,
   "metadata": {},
   "outputs": [],
   "source": []
  }
 ],
 "metadata": {
  "kernelspec": {
   "display_name": "Python 3",
   "language": "python",
   "name": "python3"
  },
  "language_info": {
   "codemirror_mode": {
    "name": "ipython",
    "version": 3
   },
   "file_extension": ".py",
   "mimetype": "text/x-python",
   "name": "python",
   "nbconvert_exporter": "python",
   "pygments_lexer": "ipython3",
   "version": "3.6.5"
  }
 },
 "nbformat": 4,
 "nbformat_minor": 2
}
