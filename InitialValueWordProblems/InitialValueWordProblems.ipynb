{
 "cells": [
  {
   "cell_type": "markdown",
   "metadata": {},
   "source": [
    "# How to: My Approach to Initial Value Word Problems\n",
    "\n",
    "We've all been there: either on a homework set or in an exam. You turn to the final page and to your dismay, it's a wall of text; the dreaded Word Problem."
   ]
  },
  {
   "cell_type": "markdown",
   "metadata": {},
   "source": [
    "---\n",
    "\n",
    "**Problem Statement:** \n",
    "\n",
    "You are the proud owner of Perfectly Pristine Pools, a residential pool repair business. \n",
    "Your company has been contracted to repair a pool in a far away town.\n",
    "The repair requires 3 hours and the total drive-time 3 hours.\n",
    "However, before starting the repair the pool needs to be drained of water.\n",
    "You wonder, how long should the job take?\n",
    "\n",
    "Luckily you know the pool's dimensions. \n",
    "(And calculus!)\n",
    "The pool is filled to a depth of 3 meters and its footprint is 5 meters by 10 meters.\n",
    "You know the pool has an outlet valve with diameter of 15 centimeters at its bottom. \n",
    "You also know that the discharge, $Q$ in $\\left[\\frac{m^3}{sec}\\right]$, from an orifice is calculated as:\n",
    "\n",
    "$$Q = C \\cdot \\sqrt{h}$$\n",
    "\n",
    "where,\n",
    "\n",
    "$$C = 0.62 \\, \\frac{1}{4} \\, \\pi \\, D^2 \\, \\sqrt{2 \\, g}$$\n",
    "$$C \\approx 0.05 $$\n",
    "\n",
    "such that,\n",
    "\n",
    "$$Q = 0.05 \\cdot \\sqrt{h} \\, \\left[\\frac{m^3}{sec}\\right]$$\n",
    "\n",
    "and $h$ is the height of the water above the orifice.\n",
    "\n",
    "---"
   ]
  },
  {
   "cell_type": "markdown",
   "metadata": {},
   "source": [
    "Woah, that's a lot.\n",
    "Some of it is useful, some is meant to distract.\n",
    "Let's look at a strategy to answer initial value word problems."
   ]
  },
  {
   "cell_type": "markdown",
   "metadata": {},
   "source": [
    "## 1. Write down all of the variables, check and convert units\n",
    "\n",
    "Oftentimes on word problems, as in life, the values that you are working with will not come conveniently packaged in the same units.\n",
    "To defend against this, write out everything that is given and do unit conversion up front.\n",
    "In this case, you'll see that it's convenient to convert the discharge equation, $Q(h)$, from $\\left[\\frac{m^3}{sec}\\right]$ to $\\left[\\frac{m^3}{hr}\\right]$.\n",
    "(Converting the diameter of the pipe from centimeters to meters is also an option, but we won't use that in this example because I've already made the calculation of $C$ for us.)\n",
    "\n",
    "**Note:** Parsing the given information *before* formulating the question in math can buy your head time to process what the question is asking.\n",
    "\n",
    "$$D_{pipe} = 15 \\, cm \\cdot \\left[\\frac{1 \\, m}{100 \\, cm} \\right] = 0.15 \\, m$$\n",
    "$$A_{pool} = 5 \\times 10 \\, m = 50 \\, m$$\n",
    "\n",
    "$$t_{repair} = 3 \\, hr$$\n",
    "$$t_{drive} = 3 \\, hr$$\n",
    "\n",
    "$$Q = 0.05 \\sqrt{h} \\left[\\frac{m^3}{sec}\\right]$$\n",
    "$$Q = 0.05 \\sqrt{h} \\, \\left[\\frac{m^3}{sec}\\right] \\cdot \\left[\\frac{60 \\, sec}{1 \\, min}\\right] \\cdot \\left[\\frac{60 \\, min}{1 \\, hr}\\right] = 180 \\sqrt{h} \\left[\\frac{m^3}{hr}\\right]$$\n",
    "$$Q = 180 \\sqrt{h} \\left[\\frac{m^3}{hr}\\right]$$\n",
    "\n",
    "For simplicity, it can be helpful to write equations without numbers for as long as possible (to prevent any typo in the numbers.) \n",
    "Thus, we represent 180 as a discharge coefficient, or $C_d$.\n",
    "\n",
    "$$Q = C_d \\sqrt{h} \\, \\left[\\frac{m^3}{hr}\\right]$$\n",
    "\n",
    "And, finally, we write the **initial condition**:\n",
    "$$h_{pool}(t_0) = 3 \\, m$$\n",
    "\n"
   ]
  },
  {
   "cell_type": "markdown",
   "metadata": {},
   "source": [
    "## 2. Draw a Picture\n",
    "Next, I draw a picture of the problem setup.\n",
    "Word problems usually can be understood much more succinctly in pictoral form.\n",
    "In this case, we can see that this problem is of the family of problems I like to call \"Control Volume Problems.\"\n",
    "The secret to solving these problems is to define a Control Volume, and then observe how the stuff changes inside the box.\n",
    "In this problem, the Control Volume is the pool.\n",
    "\n",
    "**Note:** The picture I draw is a cross section of the pool because we are interested in how the *height* of the pool changes over time.\n",
    "\n",
    "**[Insert Pic Here]**"
   ]
  },
  {
   "cell_type": "markdown",
   "metadata": {},
   "source": [
    "## 3. Formulate the question as math\n",
    "By writing out all of our given information and drawing a picture we have a great idea of the relationship we may be looking for: the water height as a function of time, or $h(t)$.\n",
    "\n",
    "But remember, the question actually asks how much time the job will take or, $t_{total}$.\n",
    "We know the parts of $t_{total}$ are:\n",
    "$$t_{total} = t_{drive} + t_{drain} + t_{repair}$$\n",
    "\n",
    "Plugging in the known times, $t_{drive}$ and $t_{repair}$, we have:\n",
    "\n",
    "$$t_{total} = 6 + t_{drain}$$\n",
    "\n",
    "The time needed to drain the pool is the time between when the drain is opened, and the pool meets our initial conditions $h_{pool}(t_0) = 2$, and when the depth of water in the pools is zero, $h_{pool}(t \\,= \\, ?) = 0$."
   ]
  },
  {
   "cell_type": "markdown",
   "metadata": {},
   "source": [
    "## 4. Make a differential relationship\n",
    "We know we want the end result to be of the form $h(t)$.\n",
    "Where to start?\n",
    "For Control Volume problems it is almost always automatic to write down the following equation:\n",
    "\n",
    "$$\\Delta V = \\left(Q_{in} - Q_{out}\\right) \\cdot \\Delta t$$\n",
    "\n",
    "Where $\\Delta V$ is the change of stuff within the Control Volume's (ie. water in the the pool,) and $Q_{in}$, $Q_{out}$ are volumetric rates of stuff going into and out of the control volume (ie. water going into and out of the pool,) during a discrete slice of time, $\\Delta t$.\n",
    "Does this make sense?\n",
    "Yes! **Just check the units.**\n",
    "\n",
    "$$\\left[m^3\\right] = \\left[\\frac{m^3}{hr}\\right] \\cdot \\left[hr\\right]$$\n",
    "\n",
    "Making sure the units check out for applied calculus is always a great sanity check.\n",
    "\n",
    "So the units check out, let's break down the pieces of this equation. On left, because the footprint of the pool is constant at every height, always $5 \\times 10 \\, m$, the only dimension that changes with a change in volume is height, or\n",
    "\n",
    "$$\\Delta V_{pool} = A_{pool} \\cdot \\Delta h$$\n",
    "\n",
    "On the right, there is nothing going into the pool so $Q_{in}$ is zero.\n",
    "$Q_{out}$ we are given as the orifice equation.\n",
    "Plugging these values in, we have\n",
    "\n",
    "$$\\Delta V_{pool} = \\left(0 - C_d \\sqrt{h} \\right) \\cdot \\Delta t$$\n",
    "$$\\Delta V_{pool} = - C_d \\sqrt{h} \\, \\Delta t$$\n",
    "\n",
    "Combining these we get\n",
    "\n",
    "$$A_{pool} \\cdot \\Delta h = - C_d \\sqrt{h} \\, \\Delta t$$\n",
    "\n",
    "Collecting the $h$ terms on one side and taking the differentials $\\Delta h$ and $\\Delta t$ to their infinitesimal limits $d h$ an $d t$,\n",
    "\n",
    "$$A_{pool} \\cdot dh = - C_d \\sqrt{h} \\, dt$$\n",
    "\n",
    "$$- h^{-1/2} dh = \\frac{C_d}{A_{pool}} \\, dt$$"
   ]
  },
  {
   "cell_type": "markdown",
   "metadata": {},
   "source": [
    "## 5. Solve the Integral, Plug in Initial Condition\n",
    "\n",
    "Congrats, **the hard part is done!**\n",
    "You've successfully arranged the block of text into familiar equations to be integrated. \n",
    "All that remains is to solve the integral and plug in our initial condition.\n",
    "Let's go:\n",
    "\n",
    "$$\\int - h^{-1/2} dh = \\int \\frac{C_d}{A_{pool}} \\, dt$$\n",
    "\n",
    "$$-2 \\sqrt{h} + k_1 = \\int \\frac{C_d}{A_{pool}} \\, dt$$\n",
    "$$-2 \\sqrt{h} + k_1 = \\frac{C_d}{A_{pool}} \\, t + k_2$$\n",
    "\n",
    "Combining the constants and rearranging, we get\n",
    "\n",
    "$$\\sqrt{h} = K - \\frac{C_d}{2 \\, A_{pool}} \\cdot t$$\n",
    "\n",
    "Using our initial condition, $h(t_0) = 3$, we can solve for $K$,\n",
    "\n",
    "$$\\sqrt{3} = K - \\frac{C_d}{2 \\, A_{pool}} \\cdot 0$$\n",
    "$$\\sqrt{3} = K$$\n",
    "\n",
    "Thus,\n",
    "$$\\sqrt{h} = \\sqrt{3} - \\frac{C_d}{2 \\, A_{pool}} \\cdot t$$\n",
    "\n",
    "At this point we *could* continue to organize the equation, ie. square each side and have something in the form of $h(t)$.\n",
    "But, you'll notice that we don't need to organize any further to answer our question: find the time, $t_{drain}$, when $h = 0$."
   ]
  },
  {
   "cell_type": "markdown",
   "metadata": {},
   "source": [
    "## 6. Answer the Question\n",
    "\n",
    "We've got our relationship between $h$ and $t$ that to compute the following:\n",
    "find the time, $t_{drain}$, when $h = 0$.\n",
    "All that is left is plug in $h=0$ and solve for $t_{drain}$.\n",
    "\n",
    "$$\\sqrt{0} = \\sqrt{3} - \\frac{C_d}{2 \\, A_{pool}} \\cdot t_{drain}$$\n",
    "<br>\n",
    "$$t_{drain} = \\sqrt{3} \\cdot \\frac{2 \\, A_{pool}}{C_d}$$\n",
    "<br>\n",
    "$$t_{drain} = \\sqrt{3} \\cdot \\frac{2 \\cdot 50}{180}$$\n",
    "<br>\n",
    "$$t_{drain} = 0.96 \\, hr \\approx 1 \\, hr$$\n",
    "\n",
    "So,\n",
    "\n",
    "$$t_{total} = 6 + t_{drain}$$\n",
    "<br>\n",
    "$$\\boxed{t_{total} = 7 \\, hr}$$"
   ]
  },
  {
   "cell_type": "markdown",
   "metadata": {},
   "source": [
    "And there you have it.\n",
    "All in a day's work."
   ]
  },
  {
   "cell_type": "markdown",
   "metadata": {},
   "source": [
    "**Extra Credit:** The Python code below shows how to plot the height of the water in the pool between time [0,1]."
   ]
  },
  {
   "cell_type": "code",
   "execution_count": 53,
   "metadata": {},
   "outputs": [],
   "source": [
    "# Import packages\n",
    "import matplotlib.pyplot as plt\n",
    "import numpy as np"
   ]
  },
  {
   "cell_type": "code",
   "execution_count": 54,
   "metadata": {},
   "outputs": [],
   "source": [
    "def h_of_t(t):\n",
    "    # Return height of pool given time\n",
    "    \n",
    "    C_d = 180\n",
    "    A_pool = 5 * 10\n",
    "    h_0 = 3\n",
    "    \n",
    "    return (np.sqrt(h_0) - C_d/(2 * A_pool) * t)**2"
   ]
  },
  {
   "cell_type": "code",
   "execution_count": 56,
   "metadata": {},
   "outputs": [],
   "source": [
    "# Generate time values on which to evaulate h \n",
    "t = np.arange(0,1,0.01)\n",
    "\n",
    "# Use the map function to evaluate h at all t provided\n",
    "# convert to list for plotting\n",
    "h = list(map(h_of_t,t))"
   ]
  },
  {
   "cell_type": "code",
   "execution_count": 58,
   "metadata": {},
   "outputs": [
    {
     "data": {
      "image/png": "[encoded data removed]",
      "text/plain": [
       "<Figure size 576x432 with 1 Axes>"
      ]
     },
     "metadata": {},
     "output_type": "display_data"
    }
   ],
   "source": [
    "# Make a pretty plot.\n",
    "plt.figure(figsize=(8,6))\n",
    "plt.plot(t,h,color='grey',linestyle='--')\n",
    "plt.xlabel('Time [hr]')\n",
    "plt.ylabel('Height of Water in Pool [m]')\n",
    "plt.title('Water Height vs. Time')\n",
    "plt.xticks([0,0.5,1])\n",
    "plt.yticks([0,1.5,3])\n",
    "\n",
    "# Show the plot.\n",
    "plt.show()"
   ]
  }
 ],
 "metadata": {
  "kernelspec": {
   "display_name": "Python 3",
   "language": "python",
   "name": "python3"
  },
  "language_info": {
   "codemirror_mode": {
    "name": "ipython",
    "version": 3
   },
   "file_extension": ".py",
   "mimetype": "text/x-python",
   "name": "python",
   "nbconvert_exporter": "python",
   "pygments_lexer": "ipython3",
   "version": "3.6.5"
  }
 },
 "nbformat": 4,
 "nbformat_minor": 2
}
